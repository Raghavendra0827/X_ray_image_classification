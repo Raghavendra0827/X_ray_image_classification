{
  "nbformat": 4,
  "nbformat_minor": 0,
  "metadata": {
    "colab": {
      "provenance": [],
      "gpuType": "T4",
      "private_outputs": true,
      "cell_execution_strategy": "setup"
    },
    "kernelspec": {
      "name": "python3",
      "display_name": "Python 3"
    },
    "language_info": {
      "name": "python"
    },
    "accelerator": "GPU"
  },
  "cells": [
    {
      "cell_type": "code",
      "execution_count": null,
      "metadata": {
        "id": "JcZF5eN_Xh02"
      },
      "outputs": [],
      "source": [
        "import tensorflow as tf\n",
        "from tensorflow import keras\n",
        "from tensorflow.keras.models import Sequential\n",
        "from tensorflow.keras.layers import Dense, Dropout, Activation, Flatten\n",
        "from tensorflow.keras.layers import Conv2D, MaxPooling2D"
      ]
    },
    {
      "cell_type": "code",
      "source": [
        "import warnings\n",
        "warnings.simplefilter('ignore')"
      ],
      "metadata": {
        "id": "510bgYkz9-2M"
      },
      "execution_count": null,
      "outputs": []
    },
    {
      "cell_type": "code",
      "source": [
        "!pip install -q opendatasets"
      ],
      "metadata": {
        "id": "cy46ooka-GgZ"
      },
      "execution_count": null,
      "outputs": []
    },
    {
      "cell_type": "code",
      "source": [
        "import opendatasets as od\n",
        "dataset_url='https://www.kaggle.com/datasets/tolgadincer/labeled-chest-xray-images'\n",
        "od.download(dataset_url, force=True)"
      ],
      "metadata": {
        "id": "p9IRudi8-JOF"
      },
      "execution_count": null,
      "outputs": []
    },
    {
      "cell_type": "code",
      "source": [
        "from tensorflow.keras.preprocessing import image_dataset_from_directory\n",
        "\n",
        "train_dir = '/content/labeled-chest-xray-images/chest_xray/train'\n",
        "test_dir = '/content/labeled-chest-xray-images/chest_xray/test'\n",
        "\n",
        "train_data = image_dataset_from_directory(train_dir,\n",
        "                                             image_size=(225,225),\n",
        "                                             label_mode='categorical',\n",
        "                                             batch_size=32)\n",
        "\n",
        "test_data = image_dataset_from_directory(test_dir,\n",
        "                                         image_size=(225,225),\n",
        "                                         label_mode='categorical',\n",
        "                                         batch_size=32)\n"
      ],
      "metadata": {
        "id": "WpfNYXyD8WbJ"
      },
      "execution_count": null,
      "outputs": []
    },
    {
      "cell_type": "code",
      "source": [
        "model = Sequential()\n",
        "\n",
        "model.add(Conv2D(32,(5,5),strides = (2,2), padding = \"same\", input_shape = (225,225,3)))\n",
        "model.add(Activation(\"relu\"))\n",
        "\n",
        "model.add(Conv2D(32,(5,5), strides = (2,2)))\n",
        "model.add(Activation(\"relu\"))\n",
        "\n",
        "model.add(MaxPooling2D(pool_size=(2, 2)))\n",
        "model.add(Dropout(0.25))\n",
        "\n",
        "model.add(Flatten())\n",
        "model.add(Dense(512))\n",
        "model.add(Activation('relu'))\n",
        "model.add(Dropout(0.5))\n",
        "model.add(Dense(2))\n",
        "model.add(Activation('softmax'))"
      ],
      "metadata": {
        "id": "8H0vQgPk97YS"
      },
      "execution_count": null,
      "outputs": []
    },
    {
      "cell_type": "code",
      "source": [
        "model.summary()"
      ],
      "metadata": {
        "id": "ja5q23bl_fT-"
      },
      "execution_count": null,
      "outputs": []
    },
    {
      "cell_type": "code",
      "source": [
        "opt_2 = keras.optimizers.RMSprop(lr=0.0005)\n",
        "\n",
        "model.compile(loss='categorical_crossentropy',\n",
        "              optimizer=opt_2,\n",
        "              metrics=['accuracy'])"
      ],
      "metadata": {
        "id": "kGoUrmqu_pN3"
      },
      "execution_count": null,
      "outputs": []
    },
    {
      "cell_type": "code",
      "source": [
        "history = model.fit_generator(train_data, epochs=1, validation_data=test_data)"
      ],
      "metadata": {
        "id": "lz_moXRABmoH"
      },
      "execution_count": null,
      "outputs": []
    },
    {
      "cell_type": "code",
      "source": [
        "train_data_iterator = iter(train_data)\n",
        "batch_X_train, batch_y_train = next(train_data_iterator)\n",
        "\n",
        "# Now you can use the extracted batch for further processing\n",
        "print(\"Shape of training batch data:\", batch_X_train.shape)\n",
        "print(\"Shape of training batch labels:\", batch_y_train.shape)\n"
      ],
      "metadata": {
        "id": "ceJWACy8jTsP"
      },
      "execution_count": null,
      "outputs": []
    },
    {
      "cell_type": "code",
      "source": [
        "model.save(\"Xray_model.h5\")"
      ],
      "metadata": {
        "id": "ibi7teM54C1g"
      },
      "execution_count": null,
      "outputs": []
    },
    {
      "cell_type": "code",
      "source": [
        "from PIL import Image\n",
        "import numpy as np\n",
        "\n",
        "\n",
        "test_data_iterator = iter(test_data)\n",
        "batch_X_test, batch_y_test = next(test_data_iterator)\n",
        "image_to_predict = batch_X_test[0]\n",
        "image_to_predict = tf.reshape(image_to_predict, (1, *image_to_predict.shape))\n",
        "prediction = model.predict(image_to_predict)\n",
        "class_labels = train_data.class_names\n",
        "predicted_class_index = prediction.argmax(axis=1)[0]\n",
        "predicted_class_label = class_labels[predicted_class_index]\n",
        "print(\"Predicted class label:\", predicted_class_label)\n",
        "\n",
        "\n",
        "np.uint8(image_to_predict[0])\n",
        "\n",
        "\n",
        "\n"
      ],
      "metadata": {
        "id": "ebOE9FZJsIwh"
      },
      "execution_count": null,
      "outputs": []
    },
    {
      "cell_type": "code",
      "source": [
        "train_data.class_names"
      ],
      "metadata": {
        "id": "JHQuDRePOJVa"
      },
      "execution_count": null,
      "outputs": []
    },
    {
      "cell_type": "code",
      "source": [
        "image_to_predict.shape"
      ],
      "metadata": {
        "id": "KqmjJhx-Ouwq"
      },
      "execution_count": null,
      "outputs": []
    },
    {
      "cell_type": "code",
      "source": [
        "prediction.argmax(axis=1)"
      ],
      "metadata": {
        "id": "W2YgLSkPSrn9"
      },
      "execution_count": null,
      "outputs": []
    },
    {
      "cell_type": "code",
      "source": [
        "prediction"
      ],
      "metadata": {
        "id": "c7zLUPgSTbGj"
      },
      "execution_count": null,
      "outputs": []
    }
  ]
}